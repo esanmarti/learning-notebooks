{
 "cells": [
  {
   "cell_type": "markdown",
   "id": "appointed-electricity",
   "metadata": {},
   "source": [
    "# Dynamical systems"
   ]
  },
  {
   "cell_type": "markdown",
   "id": "unavailable-cleaner",
   "metadata": {},
   "source": [
    "In this notebook I will address some topics on dynamical systems. I'm definitely not a expert, actually can't recall much of what I learned from my master's degree course back in...don't wanna remember the year anyways. It's just an excuse not to feel so dumb as I do these days. I'll start with the logistic map, which is archetypal and easy but wanna explore concepts such as attractor."
   ]
  },
  {
   "cell_type": "markdown",
   "id": "confident-palace",
   "metadata": {},
   "source": [
    "## 1-The logistic map"
   ]
  },
  {
   "cell_type": "markdown",
   "id": "following-india",
   "metadata": {},
   "source": [
    "The logistic map is a mathematical sequence defined by a recursive relation, not sure if this is what is meant by \"map\". The recurrence relation is extremely simple but an important thing is that it is non-linear, apparently. Let's look at the equation that defines it:\n",
    "$$\n",
    "{\\displaystyle x_{n+1}=rx_{n}\\left(1-x_{n}\\right)}\n",
    "$$\n",
    "Anticipating things a little bit, but for different values of this $r$ parameter, we will end up having very different behaviours for this sequence when $n\\rightarrow \\infty$. Also important to note that these $x_i$ have their values bounded in $[0,1]$, because in the original model they represent a ratio between a population and a maximum population that the environment is able to support. Fun fact, for $r>4$, the values just diverge and this does not hold anymore, so not a very good model but ok, we'll simply ignore them. Let's first define this recurrence relation as a Python function. We'll pass $r$ as a parameter of this function, I'm sure it will help to do it like that."
   ]
  },
  {
   "cell_type": "code",
   "execution_count": 6,
   "id": "aggregate-indicator",
   "metadata": {},
   "outputs": [],
   "source": [
    "def logistic_map(x, r):\n",
    "    return r*x*(1 - x)"
   ]
  },
  {
   "cell_type": "markdown",
   "id": "suspended-nickname",
   "metadata": {},
   "source": [
    "Also a function that computes $N$ times the recurrence relation, so that we can evaluate values supposedly in the limit, with an initial condition $x_0$."
   ]
  },
  {
   "cell_type": "code",
   "execution_count": 4,
   "id": "digital-brother",
   "metadata": {},
   "outputs": [],
   "source": [
    "def logistic_iterations(x0, r, N):\n",
    "    x_old = x0\n",
    "    for i in range(1, N):\n",
    "        x_new = logistic_map(x_old, r)\n",
    "        x_old = x_new\n",
    "    return x_new"
   ]
  },
  {
   "cell_type": "code",
   "execution_count": 26,
   "id": "global-promotion",
   "metadata": {},
   "outputs": [
    {
     "data": {
      "text/plain": [
       "0.0"
      ]
     },
     "execution_count": 26,
     "metadata": {},
     "output_type": "execute_result"
    }
   ],
   "source": [
    "logistic_iterations(0.5, 0.5, 10000)"
   ]
  },
  {
   "cell_type": "markdown",
   "id": "smaller-harmony",
   "metadata": {},
   "source": [
    "Tried for some random parameters and oooh :( all the individuals died eventually, what a pity. But yes, this sequence converges for this value of $r=0.5$, actually it converges for a wide range of values of $r$ but not to the same value, otherwise it would be very boring. Now let's see these different convergences and some particular values. Define a function that saves the iterations in a vector."
   ]
  },
  {
   "cell_type": "code",
   "execution_count": 27,
   "id": "creative-collection",
   "metadata": {},
   "outputs": [],
   "source": [
    "def logistic_convergence(x0, r, N):\n",
    "    return_vector = []\n",
    "    x_old = x0\n",
    "    for i in range(1, N):\n",
    "        x_new = logistic_map(x_old, r)\n",
    "        return_vector.append(x_new)\n",
    "        x_old = x_new\n",
    "    return return_vector"
   ]
  },
  {
   "cell_type": "code",
   "execution_count": null,
   "id": "running-victor",
   "metadata": {},
   "outputs": [],
   "source": []
  }
 ],
 "metadata": {
  "kernelspec": {
   "display_name": "Python 3",
   "language": "python",
   "name": "python3"
  },
  "language_info": {
   "codemirror_mode": {
    "name": "ipython",
    "version": 3
   },
   "file_extension": ".py",
   "mimetype": "text/x-python",
   "name": "python",
   "nbconvert_exporter": "python",
   "pygments_lexer": "ipython3",
   "version": "3.8.0"
  }
 },
 "nbformat": 4,
 "nbformat_minor": 5
}
